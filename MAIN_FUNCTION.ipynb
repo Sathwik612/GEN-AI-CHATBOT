{
  "nbformat": 4,
  "nbformat_minor": 0,
  "metadata": {
    "colab": {
      "provenance": [],
      "mount_file_id": "1eRorMltudQWTbfoQNGZVIqvqHtpzb5Pt",
      "authorship_tag": "ABX9TyO2Drk8XBqBicFgXqT+BB5L",
      "include_colab_link": true
    },
    "kernelspec": {
      "name": "python3",
      "display_name": "Python 3"
    },
    "language_info": {
      "name": "python"
    }
  },
  "cells": [
    {
      "cell_type": "markdown",
      "metadata": {
        "id": "view-in-github",
        "colab_type": "text"
      },
      "source": [
        "<a href=\"https://colab.research.google.com/github/Sathwik612/GEN-AI-CHATBOT/blob/main/MAIN_FUNCTION.ipynb\" target=\"_parent\"><img src=\"https://colab.research.google.com/assets/colab-badge.svg\" alt=\"Open In Colab\"/></a>"
      ]
    },
    {
      "cell_type": "code",
      "source": [
        "\n",
        "import os\n",
        "\n",
        "os.environ[\"IVISLABS_API_KEY\"] = \"your_api_key_here\"  # Replace with your API key\n"
      ],
      "metadata": {
        "id": "c3wb0qN6jJaX"
      },
      "execution_count": 7,
      "outputs": []
    },
    {
      "cell_type": "code",
      "source": [
        "with open('/content/drive/My Drive/api_key.txt', 'w') as f:\n",
        "    f.write(\"API_KEYY\")  # Replace with your actual API key\n"
      ],
      "metadata": {
        "id": "o5Z7JdETjN-H"
      },
      "execution_count": 12,
      "outputs": []
    },
    {
      "cell_type": "code",
      "source": [
        "with open('/content/drive/My Drive/api_key.txt', 'r') as f:\n",
        "    API_KEY = f.read().strip()\n",
        "os.environ[\"IVISLABS_API_KEY\"] = API_KEY\n"
      ],
      "metadata": {
        "id": "30sdCM7rjeEn"
      },
      "execution_count": 13,
      "outputs": []
    },
    {
      "cell_type": "markdown",
      "source": [
        "CODE FOR LETTING THE USER ENTER THE PROMPT STATICALLY"
      ],
      "metadata": {
        "id": "O0d3hWy2qaik"
      }
    },
    {
      "cell_type": "code",
      "source": [
        "\"\"\"import requests\n",
        "import os\n",
        "\n",
        "# Load API key securely\n",
        "API_KEY = os.getenv(\"IVISLABS_API_KEY\")\n",
        "\n",
        "if not API_KEY:\n",
        "    raise ValueError(\"API key not found. Set IVISLABS_API_KEY environment variable.\")\n",
        "\n",
        "headers = {\n",
        "    'Authorization': f'Bearer {API_KEY}',\n",
        "    'Content-Type': 'application/json',\n",
        "}\n",
        "\n",
        "json_data = {\n",
        "    'model': 'gemma2:2b',\n",
        "    'messages': [\n",
        "        {\n",
        "            'role': 'system',\n",
        "            'content': 'You are a sports coach assistant. Your role is to generate personalized training plans and provide performance feedback for team members based on their needs, progress, and goals. You should ask questions if more information is needed for an accurate response.',\n",
        "        },\n",
        "        {\n",
        "            'role': 'user',\n",
        "            'content': 'Create a personalized training plan for a soccer player who is working on improving their stamina and agility.',\n",
        "        },\n",
        "    ],\n",
        "}\n",
        "\n",
        "try:\n",
        "    response = requests.post('https://chat.ivislabs.in/api/chat/completions', headers=headers, json=json_data)\n",
        "    response.raise_for_status()  # Raise an error for bad responses (4xx, 5xx)\n",
        "\n",
        "    response_json = response.json()\n",
        "    if 'choices' in response_json and response_json['choices']:\n",
        "        print(response_json['choices'][0]['message']['content'])\n",
        "    else:\n",
        "        print(\"No response found in API output.\")\n",
        "\n",
        "except requests.exceptions.RequestException as e:\n",
        "    print(f\"Error making API request: {e}\")\n",
        "    \"\"\""
      ],
      "metadata": {
        "collapsed": true,
        "id": "_w6Lvp8lk8oJ"
      },
      "execution_count": null,
      "outputs": []
    },
    {
      "cell_type": "markdown",
      "source": [
        "CODE FOR LETTING THE USER ENTER THE PROMPT DYNAMICALLY"
      ],
      "metadata": {
        "id": "7WNNEzdJqVIT"
      }
    },
    {
      "cell_type": "code",
      "source": [
        "import requests\n",
        "import os\n",
        "\n",
        "# Load API key securely\n",
        "API_KEY = os.getenv(\"IVISLABS_API_KEY\")\n",
        "\n",
        "if not API_KEY:\n",
        "    raise ValueError(\"API key not found. Set IVISLABS_API_KEY environment variable.\")\n",
        "\n",
        "headers = {\n",
        "    'Authorization': f'Bearer {API_KEY}',\n",
        "    'Content-Type': 'application/json',\n",
        "}\n",
        "\n",
        "# Initialize chat history\n",
        "chat_history = [\n",
        "    {\n",
        "        'role': 'system',\n",
        "        'content': 'You are a sports coach assistant. Your role is to generate personalized training plans and provide performance feedback for team members based on their needs, progress, and goals. You should ask questions if more information is needed for an accurate response.',\n",
        "    }\n",
        "]\n",
        "\n",
        "while True:\n",
        "    user_input = input(\"You: \").strip()\n",
        "    if user_input.lower() in ['exit', 'quit']:\n",
        "        print(\"Exiting chat.\")\n",
        "        break\n",
        "\n",
        "    chat_history.append({'role': 'user', 'content': user_input})\n",
        "\n",
        "    json_data = {\n",
        "        'model': 'gemma2:2b',\n",
        "        'messages': chat_history,\n",
        "    }\n",
        "\n",
        "    try:\n",
        "        response = requests.post('https://chat.ivislabs.in/api/chat/completions', headers=headers, json=json_data)\n",
        "        response.raise_for_status()  # Raise an error for bad responses (4xx, 5xx)\n",
        "\n",
        "        response_json = response.json()\n",
        "        if 'choices' in response_json and response_json['choices']:\n",
        "            reply = response_json['choices'][0]['message']['content']\n",
        "            print(f\"Assistant: {reply}\")\n",
        "            chat_history.append({'role': 'assistant', 'content': reply})\n",
        "        else:\n",
        "            print(\"No response found in API output.\")\n",
        "\n",
        "    except requests.exceptions.RequestException as e:\n",
        "        print(f\"Error making API request: {e}\")\n"
      ],
      "metadata": {
        "id": "3WrEv9FeqTbw"
      },
      "execution_count": null,
      "outputs": []
    }
  ]
}